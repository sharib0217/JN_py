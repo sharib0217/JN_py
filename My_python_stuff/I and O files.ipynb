{
 "cells": [
  {
   "cell_type": "code",
   "execution_count": 2,
   "id": "6815811a",
   "metadata": {},
   "outputs": [
    {
     "name": "stdout",
     "output_type": "stream",
     "text": [
      "Writing myfilee.txt\n"
     ]
    }
   ],
   "source": [
    "%%writefile  myfilee.txt\n",
    "Hello world, this is a text file\n",
    "this is second line\n",
    "this is third line\n",
    "and this is fourth"
   ]
  },
  {
   "cell_type": "markdown",
   "id": "62c23b2c",
   "metadata": {},
   "source": [
    "# %%writefile  filename.txt"
   ]
  },
  {
   "cell_type": "code",
   "execution_count": 5,
   "id": "a3c37c3a",
   "metadata": {},
   "outputs": [],
   "source": [
    "myfiless = open ('myfilee.txt')"
   ]
  },
  {
   "cell_type": "code",
   "execution_count": 6,
   "id": "9d1e01b1",
   "metadata": {},
   "outputs": [
    {
     "ename": "FileNotFoundError",
     "evalue": "[Errno 2] No such file or directory: 'filer.txt'",
     "output_type": "error",
     "traceback": [
      "\u001b[1;31m---------------------------------------------------------------------------\u001b[0m",
      "\u001b[1;31mFileNotFoundError\u001b[0m                         Traceback (most recent call last)",
      "Input \u001b[1;32mIn [6]\u001b[0m, in \u001b[0;36m<cell line: 1>\u001b[1;34m()\u001b[0m\n\u001b[1;32m----> 1\u001b[0m shar_file \u001b[38;5;241m=\u001b[39m \u001b[38;5;28;43mopen\u001b[39;49m\u001b[43m(\u001b[49m\u001b[38;5;124;43m'\u001b[39;49m\u001b[38;5;124;43mfiler.txt\u001b[39;49m\u001b[38;5;124;43m'\u001b[39;49m\u001b[43m)\u001b[49m\n",
      "\u001b[1;31mFileNotFoundError\u001b[0m: [Errno 2] No such file or directory: 'filer.txt'"
     ]
    }
   ],
   "source": [
    "shar_file = open('filer.txt')"
   ]
  },
  {
   "cell_type": "markdown",
   "id": "6ace2856",
   "metadata": {},
   "source": [
    "# it returns error, because filer.txt is either not a file in the folder (check file name spelling, while generating the file, there might be typo) or its in another directory"
   ]
  },
  {
   "cell_type": "code",
   "execution_count": 7,
   "id": "eccb6c84",
   "metadata": {},
   "outputs": [
    {
     "data": {
      "text/plain": [
       "'C:\\\\Users\\\\sizhar\\\\Music\\\\My_python_stuff'"
      ]
     },
     "execution_count": 7,
     "metadata": {},
     "output_type": "execute_result"
    }
   ],
   "source": [
    "pwd"
   ]
  },
  {
   "cell_type": "markdown",
   "id": "9e665da0",
   "metadata": {},
   "source": [
    "# pwd shows current directory,    and remember there are two back slashes"
   ]
  },
  {
   "cell_type": "code",
   "execution_count": null,
   "id": "2165e89f",
   "metadata": {},
   "outputs": [],
   "source": []
  },
  {
   "cell_type": "code",
   "execution_count": null,
   "id": "0f3046f9",
   "metadata": {},
   "outputs": [],
   "source": [
    "    "
   ]
  },
  {
   "cell_type": "code",
   "execution_count": 9,
   "id": "58755818",
   "metadata": {},
   "outputs": [
    {
     "data": {
      "text/plain": [
       "'Hello world, this is a text file\\nthis is second line\\nthis is third line\\nand this is fourth\\n'"
      ]
     },
     "execution_count": 9,
     "metadata": {},
     "output_type": "execute_result"
    }
   ],
   "source": [
    "myfiless.read()"
   ]
  },
  {
   "cell_type": "code",
   "execution_count": 10,
   "id": "414da5f8",
   "metadata": {},
   "outputs": [
    {
     "data": {
      "text/plain": [
       "''"
      ]
     },
     "execution_count": 10,
     "metadata": {},
     "output_type": "execute_result"
    }
   ],
   "source": [
    "myfiless.read()                                   "
   ]
  },
  {
   "cell_type": "markdown",
   "id": "6779946e",
   "metadata": {},
   "source": [
    " because the cursor lasts read was at end, so bring it to zero for reading from start using seek"
   ]
  },
  {
   "cell_type": "code",
   "execution_count": null,
   "id": "a6a25449",
   "metadata": {},
   "outputs": [],
   "source": []
  },
  {
   "cell_type": "code",
   "execution_count": 12,
   "id": "489c18bf",
   "metadata": {},
   "outputs": [
    {
     "data": {
      "text/plain": [
       "0"
      ]
     },
     "execution_count": 12,
     "metadata": {},
     "output_type": "execute_result"
    }
   ],
   "source": [
    "myfiless.seek(0)"
   ]
  },
  {
   "cell_type": "code",
   "execution_count": 13,
   "id": "4f006ed1",
   "metadata": {},
   "outputs": [
    {
     "data": {
      "text/plain": [
       "'Hello world, this is a text file\\nthis is second line\\nthis is third line\\nand this is fourth\\n'"
      ]
     },
     "execution_count": 13,
     "metadata": {},
     "output_type": "execute_result"
    }
   ],
   "source": [
    "myfiless.read()"
   ]
  },
  {
   "cell_type": "code",
   "execution_count": 14,
   "id": "afb62346",
   "metadata": {},
   "outputs": [
    {
     "data": {
      "text/plain": [
       "0"
      ]
     },
     "execution_count": 14,
     "metadata": {},
     "output_type": "execute_result"
    }
   ],
   "source": [
    "myfiless.seek(0)"
   ]
  },
  {
   "cell_type": "code",
   "execution_count": 15,
   "id": "3de98f04",
   "metadata": {},
   "outputs": [],
   "source": [
    "contents = myfiless.read()"
   ]
  },
  {
   "cell_type": "code",
   "execution_count": 16,
   "id": "36311abf",
   "metadata": {},
   "outputs": [
    {
     "data": {
      "text/plain": [
       "'Hello world, this is a text file\\nthis is second line\\nthis is third line\\nand this is fourth\\n'"
      ]
     },
     "execution_count": 16,
     "metadata": {},
     "output_type": "execute_result"
    }
   ],
   "source": [
    "contents"
   ]
  },
  {
   "cell_type": "code",
   "execution_count": null,
   "id": "b5d071bd",
   "metadata": {},
   "outputs": [],
   "source": []
  },
  {
   "cell_type": "code",
   "execution_count": 17,
   "id": "231834d8",
   "metadata": {},
   "outputs": [
    {
     "data": {
      "text/plain": [
       "0"
      ]
     },
     "execution_count": 17,
     "metadata": {},
     "output_type": "execute_result"
    }
   ],
   "source": [
    "myfiless.seek(0)"
   ]
  },
  {
   "cell_type": "code",
   "execution_count": 18,
   "id": "3e9edd65",
   "metadata": {},
   "outputs": [
    {
     "data": {
      "text/plain": [
       "['Hello world, this is a text file\\n',\n",
       " 'this is second line\\n',\n",
       " 'this is third line\\n',\n",
       " 'and this is fourth\\n']"
      ]
     },
     "execution_count": 18,
     "metadata": {},
     "output_type": "execute_result"
    }
   ],
   "source": [
    "myfiless.readlines()                                  # for reading seperate lines"
   ]
  },
  {
   "cell_type": "code",
   "execution_count": 20,
   "id": "a35746a3",
   "metadata": {},
   "outputs": [],
   "source": [
    "myfiless.close()          # we have to close the file, because it will show python has opened it while turning off system"
   ]
  },
  {
   "cell_type": "markdown",
   "id": "aeb5bea2",
   "metadata": {},
   "source": [
    "# myfile = open (\"C:\\\\Users\\\\Username\\\\Folders\\\\test.txt\")     "
   ]
  },
  {
   "cell_type": "markdown",
   "id": "67a9c511",
   "metadata": {},
   "source": [
    "to open file from another directory\n",
    "\n",
    "\n",
    "*Alternatively, to grab files from any location on your computer, simply pass in the entire file path. *\n",
    "\n",
    "For Windows you need to use double \\ so python doesn't treat the second \\ as an escape character, a file path is in the form:\n",
    "\n",
    "myfile = open(\"C:\\\\Users\\\\YourUserName\\\\Home\\\\Folder\\\\myfile.txt\")\n",
    "For MacOS and Linux you use slashes in the opposite direction:\n",
    "\n",
    "myfile = open(\"/Users/YouUserName/Folder/myfile.txt\")"
   ]
  },
  {
   "cell_type": "markdown",
   "id": "70e9bd97",
   "metadata": {},
   "source": []
  },
  {
   "cell_type": "markdown",
   "id": "2e2469aa",
   "metadata": {},
   "source": [
    "to get away with the worry of closing file, we do it as below (opening and closing at the same time)"
   ]
  },
  {
   "cell_type": "code",
   "execution_count": 22,
   "id": "a60cccc1",
   "metadata": {},
   "outputs": [],
   "source": [
    "with open('myfilee.txt') as my_brand_new_file:\n",
    "    content = my_brand_new_file.read()"
   ]
  },
  {
   "cell_type": "code",
   "execution_count": 23,
   "id": "0f1987f1",
   "metadata": {},
   "outputs": [
    {
     "data": {
      "text/plain": [
       "'Hello world, this is a text file\\nthis is second line\\nthis is third line\\nand this is fourth\\n'"
      ]
     },
     "execution_count": 23,
     "metadata": {},
     "output_type": "execute_result"
    }
   ],
   "source": [
    "content"
   ]
  },
  {
   "cell_type": "code",
   "execution_count": null,
   "id": "8d363d82",
   "metadata": {},
   "outputs": [],
   "source": []
  },
  {
   "cell_type": "markdown",
   "id": "3f175d71",
   "metadata": {},
   "source": [
    "after open, press shift+tab to see documentation,    mode = 'r' means read, if it is w, then its write                                              # also the same file is overwriteen by another name"
   ]
  },
  {
   "cell_type": "code",
   "execution_count": 24,
   "id": "3b8f70f4",
   "metadata": {},
   "outputs": [],
   "source": [
    "  with open('myfilee.txt', mode ='r') as brand_file:\n",
    "    content = brand_file.read()"
   ]
  },
  {
   "cell_type": "code",
   "execution_count": 25,
   "id": "ec83bc34",
   "metadata": {},
   "outputs": [
    {
     "data": {
      "text/plain": [
       "'Hello world, this is a text file\\nthis is second line\\nthis is third line\\nand this is fourth\\n'"
      ]
     },
     "execution_count": 25,
     "metadata": {},
     "output_type": "execute_result"
    }
   ],
   "source": [
    "content"
   ]
  },
  {
   "cell_type": "code",
   "execution_count": null,
   "id": "5c389c9d",
   "metadata": {},
   "outputs": [],
   "source": []
  },
  {
   "cell_type": "markdown",
   "id": "796c75ba",
   "metadata": {},
   "source": [
    "# Use caution!\n",
    "Opening a file with 'w' or 'w+' truncates the original, meaning that anything that was in the original file is deleted!"
   ]
  },
  {
   "cell_type": "code",
   "execution_count": null,
   "id": "937f1ec7",
   "metadata": {},
   "outputs": [],
   "source": []
  },
  {
   "cell_type": "code",
   "execution_count": 26,
   "id": "8f38951b",
   "metadata": {},
   "outputs": [
    {
     "name": "stdout",
     "output_type": "stream",
     "text": [
      "Writing sharib.txt\n"
     ]
    }
   ],
   "source": [
    "%%writefile  sharib.txt\n",
    "one is me\n",
    "second is me\n",
    "third is you\n",
    "fourth is you"
   ]
  },
  {
   "cell_type": "code",
   "execution_count": 27,
   "id": "d250eea4",
   "metadata": {},
   "outputs": [
    {
     "name": "stdout",
     "output_type": "stream",
     "text": [
      "one is me\n",
      "second is me\n",
      "third is you\n",
      "fourth is you\n",
      "\n"
     ]
    }
   ],
   "source": [
    "with open ('sharib.txt' , mode='r') as izhar:\n",
    "    print(izhar.read())"
   ]
  },
  {
   "cell_type": "code",
   "execution_count": 28,
   "id": "18af42f4",
   "metadata": {},
   "outputs": [],
   "source": [
    "with open ('sharib.txt' , mode='a') as izhar:\n",
    "    izhar.write('\\nfifth is we')"
   ]
  },
  {
   "cell_type": "code",
   "execution_count": 29,
   "id": "4459cad6",
   "metadata": {},
   "outputs": [
    {
     "name": "stdout",
     "output_type": "stream",
     "text": [
      "one is me\n",
      "second is me\n",
      "third is you\n",
      "fourth is you\n",
      "\n",
      "fifth is we\n"
     ]
    }
   ],
   "source": [
    "with open ('sharib.txt' , mode='r') as izhar:\n",
    "    print(izhar.read())"
   ]
  },
  {
   "cell_type": "code",
   "execution_count": null,
   "id": "d435e15c",
   "metadata": {},
   "outputs": [],
   "source": []
  },
  {
   "cell_type": "code",
   "execution_count": null,
   "id": "f923f166",
   "metadata": {},
   "outputs": [],
   "source": []
  },
  {
   "cell_type": "markdown",
   "id": "26bd5dde",
   "metadata": {},
   "source": [
    "with mode = 'w',  it will either overwrite the file with same name, or if not available, it will create a file"
   ]
  },
  {
   "cell_type": "code",
   "execution_count": 38,
   "id": "a01d8f13",
   "metadata": {},
   "outputs": [],
   "source": [
    "with open ('Aamir.txt' , mode='w') as h:\n",
    "    h.write('OURS IS WE')"
   ]
  },
  {
   "cell_type": "code",
   "execution_count": 39,
   "id": "60b4eb62",
   "metadata": {},
   "outputs": [
    {
     "name": "stdout",
     "output_type": "stream",
     "text": [
      "OURS IS WE\n"
     ]
    }
   ],
   "source": [
    "with open ('Aamir.txt' , mode='r') as h:\n",
    "    print (h.read())"
   ]
  },
  {
   "cell_type": "code",
   "execution_count": null,
   "id": "c5287e02",
   "metadata": {},
   "outputs": [],
   "source": []
  }
 ],
 "metadata": {
  "kernelspec": {
   "display_name": "Python 3 (ipykernel)",
   "language": "python",
   "name": "python3"
  },
  "language_info": {
   "codemirror_mode": {
    "name": "ipython",
    "version": 3
   },
   "file_extension": ".py",
   "mimetype": "text/x-python",
   "name": "python",
   "nbconvert_exporter": "python",
   "pygments_lexer": "ipython3",
   "version": "3.9.12"
  }
 },
 "nbformat": 4,
 "nbformat_minor": 5
}
