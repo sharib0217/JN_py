{
 "cells": [
  {
   "cell_type": "markdown",
   "id": "62ebdde5",
   "metadata": {},
   "source": [
    "# For loop"
   ]
  },
  {
   "cell_type": "code",
   "execution_count": 1,
   "id": "918e440a",
   "metadata": {},
   "outputs": [],
   "source": [
    " mylistt = [1,2,3,4,5,6,7,8,9,10]"
   ]
  },
  {
   "cell_type": "code",
   "execution_count": 2,
   "id": "4d64d7fc",
   "metadata": {
    "scrolled": true
   },
   "outputs": [
    {
     "name": "stdout",
     "output_type": "stream",
     "text": [
      "1\n",
      "2\n",
      "3\n",
      "4\n",
      "5\n",
      "6\n",
      "7\n",
      "8\n",
      "9\n",
      "10\n"
     ]
    }
   ],
   "source": [
    "for jelly in mylistt:\n",
    "    print (jelly)"
   ]
  },
  {
   "cell_type": "code",
   "execution_count": 4,
   "id": "39a59d9b",
   "metadata": {},
   "outputs": [
    {
     "name": "stdout",
     "output_type": "stream",
     "text": [
      "sharib\n",
      "sharib\n",
      "sharib\n",
      "sharib\n",
      "sharib\n",
      "sharib\n",
      "sharib\n",
      "sharib\n",
      "sharib\n",
      "sharib\n"
     ]
    }
   ],
   "source": [
    "for jelly in mylistt:\n",
    "    print ('sharib')"
   ]
  },
  {
   "cell_type": "markdown",
   "id": "9079027d",
   "metadata": {},
   "source": []
  },
  {
   "cell_type": "code",
   "execution_count": 6,
   "id": "845ceb82",
   "metadata": {},
   "outputs": [
    {
     "name": "stdout",
     "output_type": "stream",
     "text": [
      "2\n",
      "4\n",
      "6\n",
      "8\n",
      "10\n"
     ]
    }
   ],
   "source": [
    "for numb in mylistt:\n",
    "    if numb % 2 == 0:\n",
    "        print (numb)"
   ]
  },
  {
   "cell_type": "code",
   "execution_count": 15,
   "id": "3b1847a3",
   "metadata": {},
   "outputs": [
    {
     "name": "stdout",
     "output_type": "stream",
     "text": [
      " Odd number  : 1\n",
      " even number : 2\n",
      " Odd number  : 3\n",
      " even number : 4\n",
      " Odd number  : 5\n",
      " even number : 6\n",
      " Odd number  : 7\n",
      " even number : 8\n",
      " Odd number  : 9\n",
      " even number : 10\n"
     ]
    }
   ],
   "source": [
    "for numb in mylistt:\n",
    "    if numb % 2 == 0:\n",
    "        print (f' even number : {numb}')\n",
    "    else:\n",
    "        print (f' Odd number  : {numb}')"
   ]
  },
  {
   "cell_type": "code",
   "execution_count": null,
   "id": "08d7d734",
   "metadata": {},
   "outputs": [],
   "source": []
  },
  {
   "cell_type": "code",
   "execution_count": 18,
   "id": "51447677",
   "metadata": {},
   "outputs": [
    {
     "name": "stdout",
     "output_type": "stream",
     "text": [
      "55\n"
     ]
    }
   ],
   "source": [
    "list_sum = 0\n",
    "\n",
    "for num in mylistt:\n",
    "    list_sum = num + list_sum\n",
    "    \n",
    "print (list_sum)"
   ]
  },
  {
   "cell_type": "markdown",
   "id": "fd84b7be",
   "metadata": {},
   "source": [
    "so, this list_sum code is repaeted for 10 times and 55 is the answer after last addition"
   ]
  },
  {
   "cell_type": "markdown",
   "id": "da698cd7",
   "metadata": {},
   "source": []
  },
  {
   "cell_type": "code",
   "execution_count": 19,
   "id": "c62aab19",
   "metadata": {},
   "outputs": [
    {
     "name": "stdout",
     "output_type": "stream",
     "text": [
      "1\n",
      "3\n",
      "6\n",
      "10\n",
      "15\n",
      "21\n",
      "28\n",
      "36\n",
      "45\n",
      "55\n"
     ]
    }
   ],
   "source": [
    "list_sum = 0\n",
    "\n",
    "for num in mylistt:\n",
    "    list_sum = num + list_sum\n",
    "    \n",
    "    print (list_sum)"
   ]
  },
  {
   "cell_type": "code",
   "execution_count": null,
   "id": "49893d9f",
   "metadata": {},
   "outputs": [],
   "source": []
  },
  {
   "cell_type": "code",
   "execution_count": null,
   "id": "a556eff4",
   "metadata": {},
   "outputs": [],
   "source": []
  },
  {
   "cell_type": "code",
   "execution_count": null,
   "id": "5835a360",
   "metadata": {},
   "outputs": [],
   "source": []
  },
  {
   "cell_type": "code",
   "execution_count": 20,
   "id": "ec69b07f",
   "metadata": {},
   "outputs": [],
   "source": [
    "mystr = \"Hello Future millionare\""
   ]
  },
  {
   "cell_type": "code",
   "execution_count": 22,
   "id": "4bdae206",
   "metadata": {},
   "outputs": [
    {
     "name": "stdout",
     "output_type": "stream",
     "text": [
      "H\n",
      "e\n",
      "l\n",
      "l\n",
      "o\n",
      " \n",
      "F\n",
      "u\n",
      "t\n",
      "u\n",
      "r\n",
      "e\n",
      " \n",
      "m\n",
      "i\n",
      "l\n",
      "l\n",
      "i\n",
      "o\n",
      "n\n",
      "a\n",
      "r\n",
      "e\n"
     ]
    }
   ],
   "source": [
    "for letters in mystr:\n",
    "    print(letters)"
   ]
  },
  {
   "cell_type": "code",
   "execution_count": 26,
   "id": "44707369",
   "metadata": {},
   "outputs": [
    {
     "name": "stdout",
     "output_type": "stream",
     "text": [
      "item!\n",
      "item!\n",
      "item!\n",
      "item!\n",
      "item!\n",
      "item!\n",
      "item!\n",
      "item!\n",
      "item!\n",
      "item!\n",
      "item!\n",
      "item!\n",
      "item!\n",
      "item!\n",
      "item!\n",
      "item!\n",
      "item!\n",
      "item!\n",
      "item!\n",
      "item!\n",
      "item!\n",
      "item!\n",
      "item!\n"
     ]
    }
   ],
   "source": [
    "for _ in mystr:\n",
    "    print ('item!')"
   ]
  },
  {
   "cell_type": "code",
   "execution_count": 27,
   "id": "91d8b789",
   "metadata": {},
   "outputs": [
    {
     "name": "stdout",
     "output_type": "stream",
     "text": [
      "1\n",
      "2\n",
      "3\n"
     ]
    }
   ],
   "source": [
    "tup = (1,2,3)\n",
    "\n",
    "for pac in tup:\n",
    "    print(pac)"
   ]
  },
  {
   "cell_type": "code",
   "execution_count": 32,
   "id": "b9702432",
   "metadata": {},
   "outputs": [],
   "source": [
    "sharib = [(1,2), (2,4), (9,5), (7,8)]"
   ]
  },
  {
   "cell_type": "code",
   "execution_count": 33,
   "id": "63b9affc",
   "metadata": {},
   "outputs": [
    {
     "data": {
      "text/plain": [
       "4"
      ]
     },
     "execution_count": 33,
     "metadata": {},
     "output_type": "execute_result"
    }
   ],
   "source": [
    "len(sharib)"
   ]
  },
  {
   "cell_type": "code",
   "execution_count": 34,
   "id": "a0604c90",
   "metadata": {},
   "outputs": [
    {
     "name": "stdout",
     "output_type": "stream",
     "text": [
      "(1, 2)\n",
      "(2, 4)\n",
      "(9, 5)\n",
      "(7, 8)\n"
     ]
    }
   ],
   "source": [
    "for item in sharib:\n",
    "    print(item)"
   ]
  },
  {
   "cell_type": "code",
   "execution_count": 36,
   "id": "9e174255",
   "metadata": {},
   "outputs": [
    {
     "name": "stdout",
     "output_type": "stream",
     "text": [
      "1\n",
      "2\n",
      "2\n",
      "4\n",
      "9\n",
      "5\n",
      "7\n",
      "8\n"
     ]
    }
   ],
   "source": [
    "for a,b in sharib:                                               #tuple unpacking\n",
    "    print(a)\n",
    "    print(b)"
   ]
  },
  {
   "cell_type": "code",
   "execution_count": 37,
   "id": "1acd31a1",
   "metadata": {},
   "outputs": [
    {
     "name": "stdout",
     "output_type": "stream",
     "text": [
      "2\n",
      "4\n",
      "5\n",
      "8\n"
     ]
    }
   ],
   "source": [
    "for a,b in sharib:\n",
    "    print(b)"
   ]
  },
  {
   "cell_type": "code",
   "execution_count": 38,
   "id": "7ff058a4",
   "metadata": {},
   "outputs": [],
   "source": [
    "Aamir = [(45,546,6),(7,5,9),(75,65,84),(45,5,7),(2,3,7),(78,12,65)]"
   ]
  },
  {
   "cell_type": "code",
   "execution_count": 39,
   "id": "2c67bfb7",
   "metadata": {},
   "outputs": [
    {
     "name": "stdout",
     "output_type": "stream",
     "text": [
      "6\n",
      "9\n",
      "84\n",
      "7\n",
      "7\n",
      "65\n"
     ]
    }
   ],
   "source": [
    "for a,b,c in Aamir:\n",
    "    print(c)"
   ]
  },
  {
   "cell_type": "code",
   "execution_count": null,
   "id": "8f814fff",
   "metadata": {},
   "outputs": [],
   "source": []
  },
  {
   "cell_type": "code",
   "execution_count": 41,
   "id": "4adc3920",
   "metadata": {},
   "outputs": [],
   "source": [
    "sohail = { 'k1':34, 'k2':53 , 'k3':99 , 'k5':64 }"
   ]
  },
  {
   "cell_type": "code",
   "execution_count": 42,
   "id": "9f0244a4",
   "metadata": {},
   "outputs": [
    {
     "name": "stdout",
     "output_type": "stream",
     "text": [
      "{'k1': 34, 'k2': 53, 'k3': 99, 'k5': 64}\n",
      "{'k1': 34, 'k2': 53, 'k3': 99, 'k5': 64}\n",
      "{'k1': 34, 'k2': 53, 'k3': 99, 'k5': 64}\n",
      "{'k1': 34, 'k2': 53, 'k3': 99, 'k5': 64}\n"
     ]
    }
   ],
   "source": [
    "for item in sohail:\n",
    "    print (sohail)"
   ]
  },
  {
   "cell_type": "code",
   "execution_count": 43,
   "id": "dfd0c712",
   "metadata": {},
   "outputs": [
    {
     "name": "stdout",
     "output_type": "stream",
     "text": [
      "k1\n",
      "k2\n",
      "k3\n",
      "k5\n"
     ]
    }
   ],
   "source": [
    "for item in sohail:                                       # by default, it will print only keys\n",
    "    print (item)"
   ]
  },
  {
   "cell_type": "code",
   "execution_count": 45,
   "id": "47eeac72",
   "metadata": {},
   "outputs": [
    {
     "name": "stdout",
     "output_type": "stream",
     "text": [
      "('k1', 34)\n",
      "('k2', 53)\n",
      "('k3', 99)\n",
      "('k5', 64)\n"
     ]
    }
   ],
   "source": [
    "for project in sohail.items():                      # .items() is to print both key and values\n",
    "    print(project)"
   ]
  },
  {
   "cell_type": "code",
   "execution_count": 46,
   "id": "b3983d40",
   "metadata": {},
   "outputs": [
    {
     "name": "stdout",
     "output_type": "stream",
     "text": [
      "34\n",
      "53\n",
      "99\n",
      "64\n"
     ]
    }
   ],
   "source": [
    "for key, value in sohail.items():\n",
    "    print(value)"
   ]
  },
  {
   "cell_type": "code",
   "execution_count": 48,
   "id": "695b9d50",
   "metadata": {},
   "outputs": [
    {
     "name": "stdout",
     "output_type": "stream",
     "text": [
      "k1\n",
      "k2\n",
      "k3\n",
      "k5\n"
     ]
    }
   ],
   "source": [
    "for anna,amma in sohail.items():\n",
    "    print(anna)"
   ]
  },
  {
   "cell_type": "code",
   "execution_count": 49,
   "id": "3c846c06",
   "metadata": {},
   "outputs": [
    {
     "name": "stdout",
     "output_type": "stream",
     "text": [
      "34 k1\n",
      "53 k2\n",
      "99 k3\n",
      "64 k5\n"
     ]
    }
   ],
   "source": [
    "for anna,amma in sohail.items():\n",
    "    print(amma,anna)"
   ]
  },
  {
   "cell_type": "code",
   "execution_count": 50,
   "id": "97d605d1",
   "metadata": {},
   "outputs": [
    {
     "name": "stdout",
     "output_type": "stream",
     "text": [
      "34\n",
      "53\n",
      "99\n",
      "64\n"
     ]
    }
   ],
   "source": [
    "for idli in sohail.values():                                 # .values() is to print only value of keys\n",
    "    print(idli)"
   ]
  },
  {
   "cell_type": "code",
   "execution_count": null,
   "id": "e63148c6",
   "metadata": {},
   "outputs": [],
   "source": []
  },
  {
   "cell_type": "code",
   "execution_count": null,
   "id": "229cf5ac",
   "metadata": {},
   "outputs": [],
   "source": []
  },
  {
   "cell_type": "code",
   "execution_count": null,
   "id": "8af5bbcf",
   "metadata": {},
   "outputs": [],
   "source": []
  },
  {
   "cell_type": "code",
   "execution_count": null,
   "id": "2774ab7c",
   "metadata": {},
   "outputs": [],
   "source": []
  },
  {
   "cell_type": "code",
   "execution_count": null,
   "id": "7051b81b",
   "metadata": {},
   "outputs": [],
   "source": []
  },
  {
   "cell_type": "markdown",
   "id": "c5f117c8",
   "metadata": {},
   "source": [
    "# While loops"
   ]
  },
  {
   "cell_type": "code",
   "execution_count": 4,
   "id": "37f5f220",
   "metadata": {},
   "outputs": [
    {
     "name": "stdout",
     "output_type": "stream",
     "text": [
      "The current value of death is 0\n",
      "The current value of death is 1\n",
      "The current value of death is 2\n",
      "The current value of death is 3\n",
      "The current value of death is 4\n"
     ]
    }
   ],
   "source": [
    "death = 0\n",
    "\n",
    "while death < 5:\n",
    "    print(f'The current value of death is {death}')\n",
    "    \n",
    "    death = death + 1"
   ]
  },
  {
   "cell_type": "code",
   "execution_count": 6,
   "id": "0eb60372",
   "metadata": {},
   "outputs": [
    {
     "name": "stdout",
     "output_type": "stream",
     "text": [
      "The current value of death is 0\n",
      "The current value of death is 1\n",
      "The current value of death is 2\n",
      "The current value of death is 3\n",
      "The current value of death is 4\n",
      " death is not less than 5!\n"
     ]
    }
   ],
   "source": [
    "death = 0\n",
    "\n",
    "while death < 5:\n",
    "    print(f'The current value of death is {death}')\n",
    "    \n",
    "    death += 1\n",
    "else:\n",
    "    print (\" death is not less than 5!\")"
   ]
  },
  {
   "cell_type": "code",
   "execution_count": null,
   "id": "e470f89d",
   "metadata": {},
   "outputs": [],
   "source": []
  },
  {
   "cell_type": "code",
   "execution_count": null,
   "id": "a302f1f0",
   "metadata": {},
   "outputs": [],
   "source": []
  },
  {
   "cell_type": "code",
   "execution_count": null,
   "id": "a4869f05",
   "metadata": {},
   "outputs": [],
   "source": []
  },
  {
   "cell_type": "markdown",
   "id": "7ddba7bd",
   "metadata": {},
   "source": [
    "# break, continue and pass"
   ]
  },
  {
   "cell_type": "code",
   "execution_count": 7,
   "id": "46b41e8d",
   "metadata": {},
   "outputs": [
    {
     "ename": "IndentationError",
     "evalue": "expected an indented block (1801566702.py, line 7)",
     "output_type": "error",
     "traceback": [
      "\u001b[1;36m  Input \u001b[1;32mIn [7]\u001b[1;36m\u001b[0m\n\u001b[1;33m    print ('end of my script.')\u001b[0m\n\u001b[1;37m    ^\u001b[0m\n\u001b[1;31mIndentationError\u001b[0m\u001b[1;31m:\u001b[0m expected an indented block\n"
     ]
    }
   ],
   "source": [
    "X = (1,2,3)\n",
    "\n",
    "for item in X:\n",
    "    #comment\n",
    "    \n",
    "    \n",
    "print ('end of my script.')"
   ]
  },
  {
   "cell_type": "code",
   "execution_count": 9,
   "id": "2d14260f",
   "metadata": {},
   "outputs": [
    {
     "name": "stdout",
     "output_type": "stream",
     "text": [
      "end of my script.\n"
     ]
    }
   ],
   "source": [
    "X = (1,2,3)                                                  # pass is a place holder to come back and write\n",
    "                                                                       # and also to avaoid syntax error\n",
    "for item in X:\n",
    "    #comment\n",
    "    pass\n",
    "    \n",
    "print ('end of my script.')"
   ]
  },
  {
   "cell_type": "markdown",
   "id": "f190cede",
   "metadata": {},
   "source": []
  },
  {
   "cell_type": "markdown",
   "id": "2022be98",
   "metadata": {},
   "source": []
  },
  {
   "cell_type": "code",
   "execution_count": 11,
   "id": "3998b5a6",
   "metadata": {},
   "outputs": [],
   "source": [
    "mystring = 'sharib'"
   ]
  },
  {
   "cell_type": "code",
   "execution_count": 12,
   "id": "15c0f7f9",
   "metadata": {},
   "outputs": [
    {
     "name": "stdout",
     "output_type": "stream",
     "text": [
      "s\n",
      "h\n",
      "r\n",
      "i\n",
      "b\n"
     ]
    }
   ],
   "source": [
    "for letter in mystring:\n",
    "    if letter == 'a':\n",
    "        continue\n",
    "    print(letter)"
   ]
  },
  {
   "cell_type": "code",
   "execution_count": 13,
   "id": "935325d4",
   "metadata": {},
   "outputs": [
    {
     "name": "stdout",
     "output_type": "stream",
     "text": [
      "s\n",
      "h\n"
     ]
    }
   ],
   "source": [
    "for letter in mystring:\n",
    "    if letter == 'a':\n",
    "        break\n",
    "    print(letter)"
   ]
  },
  {
   "cell_type": "code",
   "execution_count": 15,
   "id": "e8af711e",
   "metadata": {},
   "outputs": [
    {
     "name": "stdout",
     "output_type": "stream",
     "text": [
      "2\n",
      "3\n",
      "4\n"
     ]
    }
   ],
   "source": [
    "x = 2\n",
    "\n",
    "while x < 5:\n",
    "    print(x)\n",
    "    x+=1"
   ]
  },
  {
   "cell_type": "code",
   "execution_count": 21,
   "id": "946dc536",
   "metadata": {},
   "outputs": [
    {
     "name": "stdout",
     "output_type": "stream",
     "text": [
      "2\n",
      "3\n"
     ]
    }
   ],
   "source": [
    "x = 2\n",
    "\n",
    "while x < 5:\n",
    "    if x == 4:\n",
    "        break\n",
    "    print(x)\n",
    "    x += 1"
   ]
  },
  {
   "cell_type": "code",
   "execution_count": null,
   "id": "ccf51e67",
   "metadata": {},
   "outputs": [],
   "source": []
  },
  {
   "cell_type": "code",
   "execution_count": null,
   "id": "6f2dbb44",
   "metadata": {},
   "outputs": [],
   "source": []
  },
  {
   "cell_type": "code",
   "execution_count": null,
   "id": "5b865c82",
   "metadata": {},
   "outputs": [],
   "source": []
  },
  {
   "cell_type": "code",
   "execution_count": null,
   "id": "5f5cbc3f",
   "metadata": {},
   "outputs": [],
   "source": []
  },
  {
   "cell_type": "code",
   "execution_count": null,
   "id": "afcd1339",
   "metadata": {},
   "outputs": [],
   "source": []
  },
  {
   "cell_type": "code",
   "execution_count": null,
   "id": "d830a96f",
   "metadata": {},
   "outputs": [],
   "source": []
  },
  {
   "cell_type": "code",
   "execution_count": null,
   "id": "caa27e6a",
   "metadata": {},
   "outputs": [],
   "source": []
  },
  {
   "cell_type": "code",
   "execution_count": null,
   "id": "9d55ce5d",
   "metadata": {},
   "outputs": [],
   "source": []
  },
  {
   "cell_type": "markdown",
   "id": "3914cd8a",
   "metadata": {},
   "source": [
    "# useful operators"
   ]
  },
  {
   "cell_type": "code",
   "execution_count": 22,
   "id": "6630c8e4",
   "metadata": {},
   "outputs": [
    {
     "name": "stdout",
     "output_type": "stream",
     "text": [
      "0\n",
      "1\n",
      "2\n",
      "3\n",
      "4\n",
      "5\n",
      "6\n",
      "7\n",
      "8\n",
      "9\n"
     ]
    }
   ],
   "source": [
    "for numberr in range (10):\n",
    "    print (numberr)"
   ]
  },
  {
   "cell_type": "code",
   "execution_count": 23,
   "id": "87f0e5be",
   "metadata": {},
   "outputs": [
    {
     "name": "stdout",
     "output_type": "stream",
     "text": [
      "0\n",
      "1\n",
      "2\n",
      "3\n",
      "4\n",
      "5\n",
      "6\n",
      "7\n",
      "8\n",
      "9\n",
      "10\n"
     ]
    }
   ],
   "source": [
    "for numberr in range(0,11,1):\n",
    "    print (numberr)"
   ]
  },
  {
   "cell_type": "code",
   "execution_count": 24,
   "id": "971329f0",
   "metadata": {},
   "outputs": [
    {
     "name": "stdout",
     "output_type": "stream",
     "text": [
      "0\n",
      "2\n",
      "4\n",
      "6\n",
      "8\n",
      "10\n"
     ]
    }
   ],
   "source": [
    "for numberr in range(0,11,2):\n",
    "    print (numberr)"
   ]
  },
  {
   "cell_type": "code",
   "execution_count": 25,
   "id": "0faf4ea6",
   "metadata": {},
   "outputs": [
    {
     "data": {
      "text/plain": [
       "range(0, 10)"
      ]
     },
     "execution_count": 25,
     "metadata": {},
     "output_type": "execute_result"
    }
   ],
   "source": [
    "range(10)"
   ]
  },
  {
   "cell_type": "code",
   "execution_count": 27,
   "id": "e384b91c",
   "metadata": {},
   "outputs": [
    {
     "data": {
      "text/plain": [
       "[0, 1, 2, 3, 4, 5, 6, 7, 8, 9]"
      ]
     },
     "execution_count": 27,
     "metadata": {},
     "output_type": "execute_result"
    }
   ],
   "source": [
    "list(range(10))"
   ]
  },
  {
   "cell_type": "markdown",
   "id": "51699810",
   "metadata": {},
   "source": []
  },
  {
   "cell_type": "markdown",
   "id": "592d9384",
   "metadata": {},
   "source": []
  },
  {
   "cell_type": "code",
   "execution_count": 30,
   "id": "d814f257",
   "metadata": {},
   "outputs": [
    {
     "name": "stdout",
     "output_type": "stream",
     "text": [
      "At index 0 the letter is a\n",
      "At index 1 the letter is b\n",
      "At index 2 the letter is c\n",
      "At index 3 the letter is d\n",
      "At index 4 the letter is e\n"
     ]
    }
   ],
   "source": [
    "index_count = 0\n",
    "\n",
    "for letterr in 'abcde':\n",
    "    print('At index {} the letter is {}'.format(index_count, letterr))\n",
    "    index_count += 1"
   ]
  },
  {
   "cell_type": "code",
   "execution_count": null,
   "id": "3574c329",
   "metadata": {},
   "outputs": [],
   "source": []
  },
  {
   "cell_type": "code",
   "execution_count": 31,
   "id": "e3c0e8a6",
   "metadata": {},
   "outputs": [
    {
     "name": "stdout",
     "output_type": "stream",
     "text": [
      "a\n",
      "b\n",
      "c\n",
      "d\n",
      "e\n"
     ]
    }
   ],
   "source": [
    "index_count = 0\n",
    "word = 'abcde'\n",
    "\n",
    "for letr in word:\n",
    "    print (word[index_count])\n",
    "    index_count += 1"
   ]
  },
  {
   "cell_type": "code",
   "execution_count": null,
   "id": "d7a52237",
   "metadata": {},
   "outputs": [],
   "source": []
  },
  {
   "cell_type": "code",
   "execution_count": 32,
   "id": "9c02c698",
   "metadata": {},
   "outputs": [
    {
     "name": "stdout",
     "output_type": "stream",
     "text": [
      "(0, 'a')\n",
      "(1, 'b')\n",
      "(2, 'c')\n",
      "(3, 'd')\n",
      "(4, 'e')\n"
     ]
    }
   ],
   "source": [
    "word = 'abcde'\n",
    "\n",
    "for letr in enumerate(word):\n",
    "    print(letr)"
   ]
  },
  {
   "cell_type": "code",
   "execution_count": null,
   "id": "55932381",
   "metadata": {},
   "outputs": [],
   "source": []
  },
  {
   "cell_type": "code",
   "execution_count": 36,
   "id": "ed8e591e",
   "metadata": {},
   "outputs": [
    {
     "name": "stdout",
     "output_type": "stream",
     "text": [
      "0\n",
      "a\n",
      "\n",
      "\n",
      "1\n",
      "b\n",
      "\n",
      "\n",
      "2\n",
      "c\n",
      "\n",
      "\n",
      "3\n",
      "d\n",
      "\n",
      "\n",
      "4\n",
      "e\n",
      "\n",
      "\n"
     ]
    }
   ],
   "source": [
    "word = 'abcde'\n",
    "\n",
    "for indx, letr in enumerate(word):\n",
    "    print(indx)\n",
    "    print(letr)\n",
    "    print('\\n')"
   ]
  },
  {
   "cell_type": "code",
   "execution_count": null,
   "id": "a6529ef3",
   "metadata": {},
   "outputs": [],
   "source": []
  },
  {
   "cell_type": "code",
   "execution_count": 41,
   "id": "28da435e",
   "metadata": {},
   "outputs": [],
   "source": [
    "mylist1 = [1,2,3,4]\n",
    "mylist2 = ['a','b','c']\n",
    "mylist3 = [2,'gh',88,'yurkeit']"
   ]
  },
  {
   "cell_type": "code",
   "execution_count": 42,
   "id": "ab7c57a9",
   "metadata": {},
   "outputs": [
    {
     "name": "stdout",
     "output_type": "stream",
     "text": [
      "(1, 'a', 2)\n",
      "(2, 'b', 'gh')\n",
      "(3, 'c', 88)\n"
     ]
    }
   ],
   "source": [
    "for item in zip(mylist1,mylist2,mylist3):\n",
    "    print(item)"
   ]
  },
  {
   "cell_type": "code",
   "execution_count": null,
   "id": "04bd3178",
   "metadata": {},
   "outputs": [],
   "source": []
  },
  {
   "cell_type": "code",
   "execution_count": 43,
   "id": "05f15dc1",
   "metadata": {},
   "outputs": [
    {
     "data": {
      "text/plain": [
       "[(1, 'a'), (2, 'b'), (3, 'c')]"
      ]
     },
     "execution_count": 43,
     "metadata": {},
     "output_type": "execute_result"
    }
   ],
   "source": [
    "list(zip(mylist1, mylist2))"
   ]
  },
  {
   "cell_type": "code",
   "execution_count": null,
   "id": "b65875c2",
   "metadata": {},
   "outputs": [],
   "source": []
  },
  {
   "cell_type": "code",
   "execution_count": 44,
   "id": "f0c552b8",
   "metadata": {},
   "outputs": [
    {
     "data": {
      "text/plain": [
       "False"
      ]
     },
     "execution_count": 44,
     "metadata": {},
     "output_type": "execute_result"
    }
   ],
   "source": [
    "'x' in [1,2.3]"
   ]
  },
  {
   "cell_type": "code",
   "execution_count": 45,
   "id": "7cd1f31f",
   "metadata": {},
   "outputs": [
    {
     "data": {
      "text/plain": [
       "True"
      ]
     },
     "execution_count": 45,
     "metadata": {},
     "output_type": "execute_result"
    }
   ],
   "source": [
    "'x' in ['r', 't', 'x', 'y']"
   ]
  },
  {
   "cell_type": "code",
   "execution_count": 46,
   "id": "35a2fbb8",
   "metadata": {},
   "outputs": [
    {
     "data": {
      "text/plain": [
       "True"
      ]
     },
     "execution_count": 46,
     "metadata": {},
     "output_type": "execute_result"
    }
   ],
   "source": [
    "'a' in 'a world' "
   ]
  },
  {
   "cell_type": "code",
   "execution_count": 47,
   "id": "44c511a6",
   "metadata": {},
   "outputs": [
    {
     "data": {
      "text/plain": [
       "True"
      ]
     },
     "execution_count": 47,
     "metadata": {},
     "output_type": "execute_result"
    }
   ],
   "source": [
    "'mykey' in {'mykey':456}"
   ]
  },
  {
   "cell_type": "code",
   "execution_count": 48,
   "id": "07351dad",
   "metadata": {},
   "outputs": [],
   "source": [
    "d = {'mykey':864}"
   ]
  },
  {
   "cell_type": "code",
   "execution_count": 49,
   "id": "db749801",
   "metadata": {},
   "outputs": [
    {
     "data": {
      "text/plain": [
       "False"
      ]
     },
     "execution_count": 49,
     "metadata": {},
     "output_type": "execute_result"
    }
   ],
   "source": [
    "345 in d.values()"
   ]
  },
  {
   "cell_type": "code",
   "execution_count": 50,
   "id": "1b4eae20",
   "metadata": {},
   "outputs": [
    {
     "data": {
      "text/plain": [
       "True"
      ]
     },
     "execution_count": 50,
     "metadata": {},
     "output_type": "execute_result"
    }
   ],
   "source": [
    "864 in d.values()"
   ]
  },
  {
   "cell_type": "code",
   "execution_count": 51,
   "id": "c6a69821",
   "metadata": {},
   "outputs": [
    {
     "data": {
      "text/plain": [
       "True"
      ]
     },
     "execution_count": 51,
     "metadata": {},
     "output_type": "execute_result"
    }
   ],
   "source": [
    "'mykey' in d.keys()"
   ]
  },
  {
   "cell_type": "code",
   "execution_count": 52,
   "id": "b1b6aed2",
   "metadata": {},
   "outputs": [],
   "source": [
    "mylist = [12,56,45,78]"
   ]
  },
  {
   "cell_type": "code",
   "execution_count": 53,
   "id": "d4eb1d60",
   "metadata": {},
   "outputs": [
    {
     "data": {
      "text/plain": [
       "12"
      ]
     },
     "execution_count": 53,
     "metadata": {},
     "output_type": "execute_result"
    }
   ],
   "source": [
    "min(mylist)"
   ]
  },
  {
   "cell_type": "code",
   "execution_count": 54,
   "id": "6e886c2b",
   "metadata": {},
   "outputs": [
    {
     "data": {
      "text/plain": [
       "78"
      ]
     },
     "execution_count": 54,
     "metadata": {},
     "output_type": "execute_result"
    }
   ],
   "source": [
    "max(mylist)"
   ]
  },
  {
   "cell_type": "code",
   "execution_count": 55,
   "id": "e50a2cc5",
   "metadata": {},
   "outputs": [],
   "source": [
    "from random import shuffle"
   ]
  },
  {
   "cell_type": "code",
   "execution_count": 60,
   "id": "2ec026c2",
   "metadata": {},
   "outputs": [],
   "source": [
    "mylist = [1,2,3,4,5,6,7,8,9,12]"
   ]
  },
  {
   "cell_type": "code",
   "execution_count": 67,
   "id": "2a1ed01f",
   "metadata": {},
   "outputs": [],
   "source": [
    "shuffle(mylist)"
   ]
  },
  {
   "cell_type": "code",
   "execution_count": 68,
   "id": "015c6479",
   "metadata": {},
   "outputs": [
    {
     "data": {
      "text/plain": [
       "[9, 2, 6, 5, 12, 3, 1, 4, 7, 8]"
      ]
     },
     "execution_count": 68,
     "metadata": {},
     "output_type": "execute_result"
    }
   ],
   "source": [
    "mylist"
   ]
  },
  {
   "cell_type": "code",
   "execution_count": 69,
   "id": "70511ed1",
   "metadata": {},
   "outputs": [],
   "source": [
    "random_list = shuffle(mylist)"
   ]
  },
  {
   "cell_type": "code",
   "execution_count": 70,
   "id": "c621ece4",
   "metadata": {},
   "outputs": [
    {
     "data": {
      "text/plain": [
       "NoneType"
      ]
     },
     "execution_count": 70,
     "metadata": {},
     "output_type": "execute_result"
    }
   ],
   "source": [
    "type(random_list)"
   ]
  },
  {
   "cell_type": "code",
   "execution_count": 71,
   "id": "9e968dce",
   "metadata": {},
   "outputs": [
    {
     "data": {
      "text/plain": [
       "[2, 6, 8, 12, 4, 1, 7, 5, 9, 3]"
      ]
     },
     "execution_count": 71,
     "metadata": {},
     "output_type": "execute_result"
    }
   ],
   "source": [
    "mylist"
   ]
  },
  {
   "cell_type": "code",
   "execution_count": 72,
   "id": "f4bf2b82",
   "metadata": {},
   "outputs": [],
   "source": [
    "from random import randint"
   ]
  },
  {
   "cell_type": "code",
   "execution_count": 81,
   "id": "c29b5d92",
   "metadata": {},
   "outputs": [
    {
     "data": {
      "text/plain": [
       "33"
      ]
     },
     "execution_count": 81,
     "metadata": {},
     "output_type": "execute_result"
    }
   ],
   "source": [
    "randint(0,100)"
   ]
  },
  {
   "cell_type": "code",
   "execution_count": 82,
   "id": "5a5e7d1c",
   "metadata": {},
   "outputs": [
    {
     "data": {
      "text/plain": [
       "97"
      ]
     },
     "execution_count": 82,
     "metadata": {},
     "output_type": "execute_result"
    }
   ],
   "source": [
    "randint(0,100)"
   ]
  },
  {
   "cell_type": "code",
   "execution_count": 83,
   "id": "41e24f9b",
   "metadata": {},
   "outputs": [],
   "source": [
    "mynum = randint(20,90)"
   ]
  },
  {
   "cell_type": "code",
   "execution_count": 84,
   "id": "b45bc540",
   "metadata": {},
   "outputs": [
    {
     "data": {
      "text/plain": [
       "64"
      ]
     },
     "execution_count": 84,
     "metadata": {},
     "output_type": "execute_result"
    }
   ],
   "source": [
    "mynum"
   ]
  },
  {
   "cell_type": "code",
   "execution_count": 85,
   "id": "d64123d5",
   "metadata": {},
   "outputs": [
    {
     "name": "stdout",
     "output_type": "stream",
     "text": [
      "Enter a numbver heree: 52\n"
     ]
    },
    {
     "data": {
      "text/plain": [
       "'52'"
      ]
     },
     "execution_count": 85,
     "metadata": {},
     "output_type": "execute_result"
    }
   ],
   "source": [
    "input('Enter a numbver heree: ')"
   ]
  },
  {
   "cell_type": "code",
   "execution_count": null,
   "id": "aa6169df",
   "metadata": {},
   "outputs": [],
   "source": []
  },
  {
   "cell_type": "code",
   "execution_count": 89,
   "id": "341cdbe8",
   "metadata": {},
   "outputs": [
    {
     "name": "stdout",
     "output_type": "stream",
     "text": [
      "What is your profession? Engineer\n"
     ]
    }
   ],
   "source": [
    "result = input('What is your profession? ')"
   ]
  },
  {
   "cell_type": "code",
   "execution_count": 90,
   "id": "0df56a1c",
   "metadata": {},
   "outputs": [
    {
     "data": {
      "text/plain": [
       "'Engineer'"
      ]
     },
     "execution_count": 90,
     "metadata": {},
     "output_type": "execute_result"
    }
   ],
   "source": [
    "result"
   ]
  },
  {
   "cell_type": "code",
   "execution_count": 91,
   "id": "614877ec",
   "metadata": {},
   "outputs": [
    {
     "name": "stdout",
     "output_type": "stream",
     "text": [
      "What is your fav number? 30\n"
     ]
    }
   ],
   "source": [
    "result = input('What is your fav number? ')"
   ]
  },
  {
   "cell_type": "code",
   "execution_count": 92,
   "id": "d69edbe8",
   "metadata": {},
   "outputs": [
    {
     "data": {
      "text/plain": [
       "'30'"
      ]
     },
     "execution_count": 92,
     "metadata": {},
     "output_type": "execute_result"
    }
   ],
   "source": [
    "result"
   ]
  },
  {
   "cell_type": "code",
   "execution_count": 93,
   "id": "6248449b",
   "metadata": {},
   "outputs": [
    {
     "data": {
      "text/plain": [
       "str"
      ]
     },
     "execution_count": 93,
     "metadata": {},
     "output_type": "execute_result"
    }
   ],
   "source": [
    "type(result)"
   ]
  },
  {
   "cell_type": "code",
   "execution_count": 94,
   "id": "5ed5558a",
   "metadata": {},
   "outputs": [
    {
     "data": {
      "text/plain": [
       "30.0"
      ]
     },
     "execution_count": 94,
     "metadata": {},
     "output_type": "execute_result"
    }
   ],
   "source": [
    "float(result)"
   ]
  },
  {
   "cell_type": "code",
   "execution_count": 95,
   "id": "064324a9",
   "metadata": {},
   "outputs": [
    {
     "data": {
      "text/plain": [
       "30"
      ]
     },
     "execution_count": 95,
     "metadata": {},
     "output_type": "execute_result"
    }
   ],
   "source": [
    "int(result)"
   ]
  },
  {
   "cell_type": "code",
   "execution_count": 96,
   "id": "c9421738",
   "metadata": {},
   "outputs": [
    {
     "name": "stdout",
     "output_type": "stream",
     "text": [
      "What is your fav number? 20\n"
     ]
    }
   ],
   "source": [
    "result = int(input('What is your fav number? '))"
   ]
  },
  {
   "cell_type": "code",
   "execution_count": 98,
   "id": "51347f77",
   "metadata": {},
   "outputs": [
    {
     "data": {
      "text/plain": [
       "int"
      ]
     },
     "execution_count": 98,
     "metadata": {},
     "output_type": "execute_result"
    }
   ],
   "source": [
    "type(result)"
   ]
  },
  {
   "cell_type": "code",
   "execution_count": null,
   "id": "c9e5c598",
   "metadata": {},
   "outputs": [],
   "source": []
  },
  {
   "cell_type": "code",
   "execution_count": null,
   "id": "9590feeb",
   "metadata": {},
   "outputs": [],
   "source": []
  },
  {
   "cell_type": "code",
   "execution_count": null,
   "id": "5b527974",
   "metadata": {},
   "outputs": [],
   "source": []
  },
  {
   "cell_type": "code",
   "execution_count": null,
   "id": "1634b668",
   "metadata": {},
   "outputs": [],
   "source": []
  },
  {
   "cell_type": "markdown",
   "id": "9d78a6d8",
   "metadata": {},
   "source": [
    "# list comprehension"
   ]
  },
  {
   "cell_type": "code",
   "execution_count": 99,
   "id": "badd4e93",
   "metadata": {},
   "outputs": [],
   "source": [
    "sharib = 'Hello'"
   ]
  },
  {
   "cell_type": "code",
   "execution_count": 101,
   "id": "c5a0668b",
   "metadata": {},
   "outputs": [],
   "source": [
    "mylist = []\n",
    "\n",
    "for letters in sharib:\n",
    "    mylist.append(letters)"
   ]
  },
  {
   "cell_type": "code",
   "execution_count": 102,
   "id": "f309fdb0",
   "metadata": {},
   "outputs": [
    {
     "data": {
      "text/plain": [
       "['H', 'e', 'l', 'l', 'o']"
      ]
     },
     "execution_count": 102,
     "metadata": {},
     "output_type": "execute_result"
    }
   ],
   "source": [
    "mylist"
   ]
  },
  {
   "cell_type": "code",
   "execution_count": null,
   "id": "fa206cdf",
   "metadata": {},
   "outputs": [],
   "source": []
  },
  {
   "cell_type": "code",
   "execution_count": 103,
   "id": "6ea14098",
   "metadata": {},
   "outputs": [],
   "source": [
    "mylist = [letr for letr in mystring]"
   ]
  },
  {
   "cell_type": "code",
   "execution_count": 104,
   "id": "650bf521",
   "metadata": {},
   "outputs": [
    {
     "data": {
      "text/plain": [
       "['s', 'h', 'a', 'r', 'i', 'b']"
      ]
     },
     "execution_count": 104,
     "metadata": {},
     "output_type": "execute_result"
    }
   ],
   "source": [
    "mylist"
   ]
  },
  {
   "cell_type": "code",
   "execution_count": null,
   "id": "aae54933",
   "metadata": {},
   "outputs": [],
   "source": []
  },
  {
   "cell_type": "code",
   "execution_count": 105,
   "id": "a55c06f2",
   "metadata": {},
   "outputs": [],
   "source": [
    "yourlist = [qwerty for qwerty in 'Aamirsohailmangalawede']"
   ]
  },
  {
   "cell_type": "code",
   "execution_count": 106,
   "id": "67231ea2",
   "metadata": {},
   "outputs": [
    {
     "data": {
      "text/plain": [
       "['A',\n",
       " 'a',\n",
       " 'm',\n",
       " 'i',\n",
       " 'r',\n",
       " 's',\n",
       " 'o',\n",
       " 'h',\n",
       " 'a',\n",
       " 'i',\n",
       " 'l',\n",
       " 'm',\n",
       " 'a',\n",
       " 'n',\n",
       " 'g',\n",
       " 'a',\n",
       " 'l',\n",
       " 'a',\n",
       " 'w',\n",
       " 'e',\n",
       " 'd',\n",
       " 'e']"
      ]
     },
     "execution_count": 106,
     "metadata": {},
     "output_type": "execute_result"
    }
   ],
   "source": [
    "yourlist"
   ]
  },
  {
   "cell_type": "code",
   "execution_count": 108,
   "id": "d8060f1a",
   "metadata": {},
   "outputs": [],
   "source": [
    "ourlist = [qwerty for qwerty in range(0,8)]"
   ]
  },
  {
   "cell_type": "code",
   "execution_count": 109,
   "id": "95cbea95",
   "metadata": {},
   "outputs": [
    {
     "data": {
      "text/plain": [
       "[0, 1, 2, 3, 4, 5, 6, 7]"
      ]
     },
     "execution_count": 109,
     "metadata": {},
     "output_type": "execute_result"
    }
   ],
   "source": [
    "ourlist"
   ]
  },
  {
   "cell_type": "code",
   "execution_count": 110,
   "id": "531f440a",
   "metadata": {},
   "outputs": [],
   "source": [
    "ourlist = [qwerty**2 for qwerty in range(0,8)]"
   ]
  },
  {
   "cell_type": "code",
   "execution_count": 111,
   "id": "45fb1d49",
   "metadata": {},
   "outputs": [
    {
     "data": {
      "text/plain": [
       "[0, 1, 4, 9, 16, 25, 36, 49]"
      ]
     },
     "execution_count": 111,
     "metadata": {},
     "output_type": "execute_result"
    }
   ],
   "source": [
    "ourlist"
   ]
  },
  {
   "cell_type": "code",
   "execution_count": null,
   "id": "caaabe86",
   "metadata": {},
   "outputs": [],
   "source": []
  },
  {
   "cell_type": "code",
   "execution_count": 112,
   "id": "aafe9b09",
   "metadata": {},
   "outputs": [],
   "source": [
    "minelist = [x**2 for x in range (23,89) if x%2 == 0]"
   ]
  },
  {
   "cell_type": "code",
   "execution_count": 113,
   "id": "cbe24119",
   "metadata": {},
   "outputs": [
    {
     "data": {
      "text/plain": [
       "[576,\n",
       " 676,\n",
       " 784,\n",
       " 900,\n",
       " 1024,\n",
       " 1156,\n",
       " 1296,\n",
       " 1444,\n",
       " 1600,\n",
       " 1764,\n",
       " 1936,\n",
       " 2116,\n",
       " 2304,\n",
       " 2500,\n",
       " 2704,\n",
       " 2916,\n",
       " 3136,\n",
       " 3364,\n",
       " 3600,\n",
       " 3844,\n",
       " 4096,\n",
       " 4356,\n",
       " 4624,\n",
       " 4900,\n",
       " 5184,\n",
       " 5476,\n",
       " 5776,\n",
       " 6084,\n",
       " 6400,\n",
       " 6724,\n",
       " 7056,\n",
       " 7396,\n",
       " 7744]"
      ]
     },
     "execution_count": 113,
     "metadata": {},
     "output_type": "execute_result"
    }
   ],
   "source": [
    "minelist"
   ]
  },
  {
   "cell_type": "code",
   "execution_count": null,
   "id": "46985826",
   "metadata": {},
   "outputs": [],
   "source": []
  },
  {
   "cell_type": "code",
   "execution_count": 114,
   "id": "c6136997",
   "metadata": {},
   "outputs": [],
   "source": [
    "celsius = [0,10,20,34.5]\n",
    "\n",
    "fahrenheit = [((9/5)*temp + 32) for temp in celsius]"
   ]
  },
  {
   "cell_type": "code",
   "execution_count": 115,
   "id": "4141b8bb",
   "metadata": {},
   "outputs": [
    {
     "data": {
      "text/plain": [
       "[32.0, 50.0, 68.0, 94.1]"
      ]
     },
     "execution_count": 115,
     "metadata": {},
     "output_type": "execute_result"
    }
   ],
   "source": [
    "fahrenheit"
   ]
  },
  {
   "cell_type": "code",
   "execution_count": null,
   "id": "a9f76364",
   "metadata": {},
   "outputs": [],
   "source": []
  },
  {
   "cell_type": "code",
   "execution_count": 116,
   "id": "e0ea1c10",
   "metadata": {},
   "outputs": [],
   "source": [
    "fahren = []\n",
    "\n",
    "for tempr in celsius:\n",
    "    fahren.append((9/5)*tempr + 32)"
   ]
  },
  {
   "cell_type": "code",
   "execution_count": 117,
   "id": "b8aea3ab",
   "metadata": {},
   "outputs": [
    {
     "data": {
      "text/plain": [
       "[32.0, 50.0, 68.0, 94.1]"
      ]
     },
     "execution_count": 117,
     "metadata": {},
     "output_type": "execute_result"
    }
   ],
   "source": [
    "fahren"
   ]
  },
  {
   "cell_type": "code",
   "execution_count": null,
   "id": "589cb382",
   "metadata": {},
   "outputs": [],
   "source": []
  },
  {
   "cell_type": "code",
   "execution_count": 118,
   "id": "cf4d88a5",
   "metadata": {},
   "outputs": [],
   "source": [
    "resu = [x if x%2==0 else 'ODD' for x in range (0,11)]        #not recommended"
   ]
  },
  {
   "cell_type": "code",
   "execution_count": 119,
   "id": "1fa809b5",
   "metadata": {},
   "outputs": [
    {
     "data": {
      "text/plain": [
       "[0, 'ODD', 2, 'ODD', 4, 'ODD', 6, 'ODD', 8, 'ODD', 10]"
      ]
     },
     "execution_count": 119,
     "metadata": {},
     "output_type": "execute_result"
    }
   ],
   "source": [
    "resu"
   ]
  },
  {
   "cell_type": "code",
   "execution_count": null,
   "id": "ea63fb78",
   "metadata": {},
   "outputs": [],
   "source": []
  },
  {
   "cell_type": "code",
   "execution_count": 129,
   "id": "75287277",
   "metadata": {},
   "outputs": [],
   "source": [
    "ourslist = []\n",
    "\n",
    "for x in [2,4,6]:\n",
    "    for y in [1,10,1000]:\n",
    "        ourslist.append(x*y)"
   ]
  },
  {
   "cell_type": "code",
   "execution_count": 130,
   "id": "a4d2027f",
   "metadata": {},
   "outputs": [
    {
     "data": {
      "text/plain": [
       "[2, 20, 2000, 4, 40, 4000, 6, 60, 6000]"
      ]
     },
     "execution_count": 130,
     "metadata": {},
     "output_type": "execute_result"
    }
   ],
   "source": [
    "ourslist"
   ]
  },
  {
   "cell_type": "code",
   "execution_count": 131,
   "id": "848e2e07",
   "metadata": {},
   "outputs": [],
   "source": [
    " ourslistt = [x*y for x in [2,4,6] for y in [1,10,1000]]"
   ]
  },
  {
   "cell_type": "code",
   "execution_count": 132,
   "id": "54a4785b",
   "metadata": {},
   "outputs": [
    {
     "data": {
      "text/plain": [
       "[2, 20, 2000, 4, 40, 4000, 6, 60, 6000]"
      ]
     },
     "execution_count": 132,
     "metadata": {},
     "output_type": "execute_result"
    }
   ],
   "source": [
    "ourslistt"
   ]
  },
  {
   "cell_type": "code",
   "execution_count": null,
   "id": "c2e8b58a",
   "metadata": {},
   "outputs": [],
   "source": []
  }
 ],
 "metadata": {
  "kernelspec": {
   "display_name": "Python 3 (ipykernel)",
   "language": "python",
   "name": "python3"
  },
  "language_info": {
   "codemirror_mode": {
    "name": "ipython",
    "version": 3
   },
   "file_extension": ".py",
   "mimetype": "text/x-python",
   "name": "python",
   "nbconvert_exporter": "python",
   "pygments_lexer": "ipython3",
   "version": "3.9.12"
  }
 },
 "nbformat": 4,
 "nbformat_minor": 5
}
