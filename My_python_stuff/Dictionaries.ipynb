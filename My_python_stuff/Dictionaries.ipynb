{
 "cells": [
  {
   "cell_type": "code",
   "execution_count": 2,
   "id": "2aed412e",
   "metadata": {},
   "outputs": [],
   "source": [
    "my_file = {'key1': 'value1', 'key2':'value2', 'key3':'value3'}"
   ]
  },
  {
   "cell_type": "code",
   "execution_count": 3,
   "id": "7aa8e881",
   "metadata": {},
   "outputs": [
    {
     "data": {
      "text/plain": [
       "{'key1': 'value1', 'key2': 'value2', 'key3': 'value3'}"
      ]
     },
     "execution_count": 3,
     "metadata": {},
     "output_type": "execute_result"
    }
   ],
   "source": [
    "my_file"
   ]
  },
  {
   "cell_type": "code",
   "execution_count": 6,
   "id": "b463bafa",
   "metadata": {},
   "outputs": [
    {
     "data": {
      "text/plain": [
       "'value3'"
      ]
     },
     "execution_count": 6,
     "metadata": {},
     "output_type": "execute_result"
    }
   ],
   "source": [
    "my_file ['key3']"
   ]
  },
  {
   "cell_type": "code",
   "execution_count": 7,
   "id": "8936025e",
   "metadata": {},
   "outputs": [],
   "source": [
    "prices = {'apple': 5.26, 'pineapple':8.974, 'custardapple':5.44}"
   ]
  },
  {
   "cell_type": "code",
   "execution_count": 8,
   "id": "8c3cf714",
   "metadata": {},
   "outputs": [
    {
     "data": {
      "text/plain": [
       "8.974"
      ]
     },
     "execution_count": 8,
     "metadata": {},
     "output_type": "execute_result"
    }
   ],
   "source": [
    "prices ['pineapple']"
   ]
  },
  {
   "cell_type": "code",
   "execution_count": 16,
   "id": "86bae39b",
   "metadata": {},
   "outputs": [],
   "source": [
    "s = {'k':[1,2,3,4], 'kk': {'insidekey':121} , 'k3': 123}          # dict inside dict or, list inside dict"
   ]
  },
  {
   "cell_type": "code",
   "execution_count": 17,
   "id": "db4f05cc",
   "metadata": {},
   "outputs": [
    {
     "data": {
      "text/plain": [
       "[1, 2, 3, 4]"
      ]
     },
     "execution_count": 17,
     "metadata": {},
     "output_type": "execute_result"
    }
   ],
   "source": [
    "s['k']"
   ]
  },
  {
   "cell_type": "code",
   "execution_count": 18,
   "id": "779c2112",
   "metadata": {},
   "outputs": [
    {
     "data": {
      "text/plain": [
       "{'insidekey': 121}"
      ]
     },
     "execution_count": 18,
     "metadata": {},
     "output_type": "execute_result"
    }
   ],
   "source": [
    "s['kk']"
   ]
  },
  {
   "cell_type": "code",
   "execution_count": 19,
   "id": "67f546c3",
   "metadata": {},
   "outputs": [
    {
     "data": {
      "text/plain": [
       "121"
      ]
     },
     "execution_count": 19,
     "metadata": {},
     "output_type": "execute_result"
    }
   ],
   "source": [
    "s['kk']['insidekey']"
   ]
  },
  {
   "cell_type": "code",
   "execution_count": 21,
   "id": "ac442207",
   "metadata": {},
   "outputs": [
    {
     "data": {
      "text/plain": [
       "123"
      ]
     },
     "execution_count": 21,
     "metadata": {},
     "output_type": "execute_result"
    }
   ],
   "source": [
    "s['k3']"
   ]
  },
  {
   "cell_type": "code",
   "execution_count": 22,
   "id": "2e8b36d8",
   "metadata": {},
   "outputs": [
    {
     "data": {
      "text/plain": [
       "3"
      ]
     },
     "execution_count": 22,
     "metadata": {},
     "output_type": "execute_result"
    }
   ],
   "source": [
    "s['k'][2]"
   ]
  },
  {
   "cell_type": "code",
   "execution_count": 23,
   "id": "7c3946bc",
   "metadata": {},
   "outputs": [],
   "source": [
    "d= {'key': ['a', 'b', 'c']}"
   ]
  },
  {
   "cell_type": "code",
   "execution_count": 29,
   "id": "e25f1f21",
   "metadata": {},
   "outputs": [],
   "source": [
    "mylist = d['key']"
   ]
  },
  {
   "cell_type": "code",
   "execution_count": 30,
   "id": "bd5199fe",
   "metadata": {},
   "outputs": [
    {
     "data": {
      "text/plain": [
       "['a', 'b', 'c']"
      ]
     },
     "execution_count": 30,
     "metadata": {},
     "output_type": "execute_result"
    }
   ],
   "source": [
    "mylist"
   ]
  },
  {
   "cell_type": "code",
   "execution_count": 32,
   "id": "6f289d6a",
   "metadata": {},
   "outputs": [],
   "source": [
    "letter = mylist[2]"
   ]
  },
  {
   "cell_type": "code",
   "execution_count": 33,
   "id": "39b214e1",
   "metadata": {},
   "outputs": [
    {
     "data": {
      "text/plain": [
       "'c'"
      ]
     },
     "execution_count": 33,
     "metadata": {},
     "output_type": "execute_result"
    }
   ],
   "source": [
    "letter"
   ]
  },
  {
   "cell_type": "code",
   "execution_count": 34,
   "id": "dc6789eb",
   "metadata": {},
   "outputs": [
    {
     "data": {
      "text/plain": [
       "'C'"
      ]
     },
     "execution_count": 34,
     "metadata": {},
     "output_type": "execute_result"
    }
   ],
   "source": [
    "letter.upper()"
   ]
  },
  {
   "cell_type": "code",
   "execution_count": 35,
   "id": "92733f3b",
   "metadata": {},
   "outputs": [
    {
     "data": {
      "text/plain": [
       "'C'"
      ]
     },
     "execution_count": 35,
     "metadata": {},
     "output_type": "execute_result"
    }
   ],
   "source": [
    "d['key'][2].upper()"
   ]
  },
  {
   "cell_type": "code",
   "execution_count": 36,
   "id": "4034e1ac",
   "metadata": {},
   "outputs": [],
   "source": [
    "h = {'r1':500, 'r2':630, 'r3':400}"
   ]
  },
  {
   "cell_type": "code",
   "execution_count": 37,
   "id": "7e4dcae2",
   "metadata": {},
   "outputs": [
    {
     "data": {
      "text/plain": [
       "{'r1': 500, 'r2': 630, 'r3': 400}"
      ]
     },
     "execution_count": 37,
     "metadata": {},
     "output_type": "execute_result"
    }
   ],
   "source": [
    "h"
   ]
  },
  {
   "cell_type": "code",
   "execution_count": 38,
   "id": "c79e747a",
   "metadata": {},
   "outputs": [],
   "source": [
    "h['r4'] = 900                       # to add new key-pair to dictionary"
   ]
  },
  {
   "cell_type": "code",
   "execution_count": 39,
   "id": "f7ff9d98",
   "metadata": {},
   "outputs": [
    {
     "data": {
      "text/plain": [
       "{'r1': 500, 'r2': 630, 'r3': 400, 'r4': 900}"
      ]
     },
     "execution_count": 39,
     "metadata": {},
     "output_type": "execute_result"
    }
   ],
   "source": [
    "h"
   ]
  },
  {
   "cell_type": "code",
   "execution_count": 40,
   "id": "26ce09b9",
   "metadata": {},
   "outputs": [],
   "source": [
    "h['r1'] = 'newvalue'                    # to assign new value to a key"
   ]
  },
  {
   "cell_type": "code",
   "execution_count": 41,
   "id": "2478a724",
   "metadata": {},
   "outputs": [
    {
     "data": {
      "text/plain": [
       "{'r1': 'newvalue', 'r2': 630, 'r3': 400, 'r4': 900}"
      ]
     },
     "execution_count": 41,
     "metadata": {},
     "output_type": "execute_result"
    }
   ],
   "source": [
    "h"
   ]
  },
  {
   "cell_type": "code",
   "execution_count": 42,
   "id": "d9f0dbf6",
   "metadata": {},
   "outputs": [],
   "source": [
    "h['r1'] = 500"
   ]
  },
  {
   "cell_type": "code",
   "execution_count": 43,
   "id": "2bc5d95f",
   "metadata": {},
   "outputs": [
    {
     "data": {
      "text/plain": [
       "{'r1': 500, 'r2': 630, 'r3': 400, 'r4': 900}"
      ]
     },
     "execution_count": 43,
     "metadata": {},
     "output_type": "execute_result"
    }
   ],
   "source": [
    "h"
   ]
  },
  {
   "cell_type": "code",
   "execution_count": 44,
   "id": "e1b276e3",
   "metadata": {},
   "outputs": [
    {
     "data": {
      "text/plain": [
       "dict_keys(['r1', 'r2', 'r3', 'r4'])"
      ]
     },
     "execution_count": 44,
     "metadata": {},
     "output_type": "execute_result"
    }
   ],
   "source": [
    "h.keys()"
   ]
  },
  {
   "cell_type": "code",
   "execution_count": 46,
   "id": "65c0c328",
   "metadata": {},
   "outputs": [
    {
     "data": {
      "text/plain": [
       "dict_values([500, 630, 400, 900])"
      ]
     },
     "execution_count": 46,
     "metadata": {},
     "output_type": "execute_result"
    }
   ],
   "source": [
    "h.values()"
   ]
  },
  {
   "cell_type": "code",
   "execution_count": null,
   "id": "20ef2473",
   "metadata": {},
   "outputs": [],
   "source": []
  }
 ],
 "metadata": {
  "kernelspec": {
   "display_name": "Python 3 (ipykernel)",
   "language": "python",
   "name": "python3"
  },
  "language_info": {
   "codemirror_mode": {
    "name": "ipython",
    "version": 3
   },
   "file_extension": ".py",
   "mimetype": "text/x-python",
   "name": "python",
   "nbconvert_exporter": "python",
   "pygments_lexer": "ipython3",
   "version": "3.9.12"
  }
 },
 "nbformat": 4,
 "nbformat_minor": 5
}
