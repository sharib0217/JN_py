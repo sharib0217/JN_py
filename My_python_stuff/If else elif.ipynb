{
 "cells": [
  {
   "cell_type": "code",
   "execution_count": 8,
   "id": "d24c9f7a",
   "metadata": {},
   "outputs": [
    {
     "name": "stdout",
     "output_type": "stream",
     "text": [
      "FEED ME !\n"
     ]
    }
   ],
   "source": [
    "hungry = True\n",
    "\n",
    "if hungry:\n",
    "    print ('FEED ME !')"
   ]
  },
  {
   "cell_type": "code",
   "execution_count": 9,
   "id": "91b878e3",
   "metadata": {},
   "outputs": [
    {
     "name": "stdout",
     "output_type": "stream",
     "text": [
      "I am not hungry !\n"
     ]
    }
   ],
   "source": [
    "hungry = False\n",
    "\n",
    "if hungry:\n",
    "    print ('FEED ME!')\n",
    "else:\n",
    "    print ('I am not hungry !')"
   ]
  },
  {
   "cell_type": "code",
   "execution_count": 11,
   "id": "91bbc733",
   "metadata": {},
   "outputs": [
    {
     "name": "stdout",
     "output_type": "stream",
     "text": [
      "I don't know, where I am\n"
     ]
    }
   ],
   "source": [
    "loc = 'showroom'\n",
    "\n",
    "if loc == 'Auto shop':\n",
    "    print ('cars are cool')\n",
    "    \n",
    "elif loc == 'Bank':\n",
    "    print ('Banks are disgusting')\n",
    "    \n",
    "elif loc == 'Store':\n",
    "    print ('you are welcome at the store')\n",
    "    \n",
    "else:\n",
    "    print(\"I don't know, where I am\")\n",
    "    "
   ]
  },
  {
   "cell_type": "markdown",
   "id": "7b438ecd",
   "metadata": {},
   "source": []
  },
  {
   "cell_type": "code",
   "execution_count": 12,
   "id": "4dcd0611",
   "metadata": {},
   "outputs": [
    {
     "name": "stdout",
     "output_type": "stream",
     "text": [
      "Hello Sam !\n"
     ]
    }
   ],
   "source": [
    "name = 'Sammy'\n",
    "\n",
    "if name == 'Frank':\n",
    "    print ('Hello Frank !')\n",
    "\n",
    "elif name == 'Sammy':\n",
    "    print (\"Hello Sam !\")\n",
    "    \n",
    "else:\n",
    "    print ('What is your name')"
   ]
  },
  {
   "cell_type": "code",
   "execution_count": null,
   "id": "c6e5f106",
   "metadata": {},
   "outputs": [],
   "source": [
    " "
   ]
  },
  {
   "cell_type": "code",
   "execution_count": null,
   "id": "d3e9592b",
   "metadata": {},
   "outputs": [],
   "source": []
  },
  {
   "cell_type": "code",
   "execution_count": null,
   "id": "6dc51857",
   "metadata": {},
   "outputs": [],
   "source": []
  }
 ],
 "metadata": {
  "kernelspec": {
   "display_name": "Python 3 (ipykernel)",
   "language": "python",
   "name": "python3"
  },
  "language_info": {
   "codemirror_mode": {
    "name": "ipython",
    "version": 3
   },
   "file_extension": ".py",
   "mimetype": "text/x-python",
   "name": "python",
   "nbconvert_exporter": "python",
   "pygments_lexer": "ipython3",
   "version": "3.9.12"
  }
 },
 "nbformat": 4,
 "nbformat_minor": 5
}
