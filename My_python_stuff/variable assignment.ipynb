{
 "cells": [
  {
   "cell_type": "markdown",
   "id": "930b4a27",
   "metadata": {},
   "source": [
    "In python. there is dynamic typing. means the values of variables can be changed."
   ]
  },
  {
   "cell_type": "code",
   "execution_count": 1,
   "id": "b1ab39b4",
   "metadata": {},
   "outputs": [],
   "source": [
    "a=5"
   ]
  },
  {
   "cell_type": "code",
   "execution_count": 2,
   "id": "bf0177b9",
   "metadata": {},
   "outputs": [
    {
     "data": {
      "text/plain": [
       "5"
      ]
     },
     "execution_count": 2,
     "metadata": {},
     "output_type": "execute_result"
    }
   ],
   "source": [
    "a"
   ]
  },
  {
   "cell_type": "code",
   "execution_count": 3,
   "id": "b9b8f93c",
   "metadata": {},
   "outputs": [],
   "source": [
    "a=10"
   ]
  },
  {
   "cell_type": "code",
   "execution_count": 4,
   "id": "e3d83c4d",
   "metadata": {},
   "outputs": [
    {
     "data": {
      "text/plain": [
       "10"
      ]
     },
     "execution_count": 4,
     "metadata": {},
     "output_type": "execute_result"
    }
   ],
   "source": [
    "a"
   ]
  },
  {
   "cell_type": "code",
   "execution_count": 5,
   "id": "1f207621",
   "metadata": {},
   "outputs": [
    {
     "data": {
      "text/plain": [
       "20"
      ]
     },
     "execution_count": 5,
     "metadata": {},
     "output_type": "execute_result"
    }
   ],
   "source": [
    "a+a"
   ]
  },
  {
   "cell_type": "markdown",
   "id": "297af697",
   "metadata": {},
   "source": [
    "if we rerun just below cell, the value of a keeps changing"
   ]
  },
  {
   "cell_type": "code",
   "execution_count": 9,
   "id": "799c9e1e",
   "metadata": {},
   "outputs": [],
   "source": [
    "a= a+a"
   ]
  },
  {
   "cell_type": "code",
   "execution_count": 10,
   "id": "ccb540e1",
   "metadata": {},
   "outputs": [
    {
     "data": {
      "text/plain": [
       "40"
      ]
     },
     "execution_count": 10,
     "metadata": {},
     "output_type": "execute_result"
    }
   ],
   "source": [
    "a"
   ]
  },
  {
   "cell_type": "code",
   "execution_count": 12,
   "id": "e26ac3fe",
   "metadata": {},
   "outputs": [
    {
     "data": {
      "text/plain": [
       "int"
      ]
     },
     "execution_count": 12,
     "metadata": {},
     "output_type": "execute_result"
    }
   ],
   "source": [
    "type(a)"
   ]
  },
  {
   "cell_type": "code",
   "execution_count": 13,
   "id": "8e104c9b",
   "metadata": {},
   "outputs": [],
   "source": [
    "a=30.1"
   ]
  },
  {
   "cell_type": "code",
   "execution_count": 14,
   "id": "8c82ecfb",
   "metadata": {},
   "outputs": [
    {
     "data": {
      "text/plain": [
       "float"
      ]
     },
     "execution_count": 14,
     "metadata": {},
     "output_type": "execute_result"
    }
   ],
   "source": [
    "type(a)"
   ]
  },
  {
   "cell_type": "markdown",
   "id": "cc72d4e4",
   "metadata": {},
   "source": [
    "don't use in-built operators or functions to assign variable"
   ]
  },
  {
   "cell_type": "code",
   "execution_count": 16,
   "id": "6093aadc",
   "metadata": {},
   "outputs": [],
   "source": [
    "int =5"
   ]
  },
  {
   "cell_type": "markdown",
   "id": "533c90ce",
   "metadata": {},
   "source": []
  },
  {
   "cell_type": "code",
   "execution_count": 17,
   "id": "2ccabbe4",
   "metadata": {},
   "outputs": [],
   "source": [
    "myincome = 100\n",
    "tax_rate = 0.1\n",
    "my_taxes = myincome*tax_rate"
   ]
  },
  {
   "cell_type": "code",
   "execution_count": 18,
   "id": "079bdabd",
   "metadata": {},
   "outputs": [
    {
     "data": {
      "text/plain": [
       "10.0"
      ]
     },
     "execution_count": 18,
     "metadata": {},
     "output_type": "execute_result"
    }
   ],
   "source": [
    "my_taxes"
   ]
  },
  {
   "cell_type": "code",
   "execution_count": null,
   "id": "e8da06a0",
   "metadata": {},
   "outputs": [],
   "source": []
  }
 ],
 "metadata": {
  "kernelspec": {
   "display_name": "Python 3 (ipykernel)",
   "language": "python",
   "name": "python3"
  },
  "language_info": {
   "codemirror_mode": {
    "name": "ipython",
    "version": 3
   },
   "file_extension": ".py",
   "mimetype": "text/x-python",
   "name": "python",
   "nbconvert_exporter": "python",
   "pygments_lexer": "ipython3",
   "version": "3.9.12"
  }
 },
 "nbformat": 4,
 "nbformat_minor": 5
}
