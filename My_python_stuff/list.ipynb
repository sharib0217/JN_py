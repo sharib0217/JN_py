{
 "cells": [
  {
   "cell_type": "markdown",
   "id": "e9bad1ca",
   "metadata": {},
   "source": [
    "# Lists"
   ]
  },
  {
   "cell_type": "code",
   "execution_count": 1,
   "id": "798e075e",
   "metadata": {},
   "outputs": [],
   "source": [
    "mylist = [1,2,3]"
   ]
  },
  {
   "cell_type": "code",
   "execution_count": 2,
   "id": "c0b233c9",
   "metadata": {},
   "outputs": [],
   "source": [
    "mylist = ['string', 555, 5614]"
   ]
  },
  {
   "cell_type": "code",
   "execution_count": 3,
   "id": "925d7124",
   "metadata": {},
   "outputs": [
    {
     "data": {
      "text/plain": [
       "3"
      ]
     },
     "execution_count": 3,
     "metadata": {},
     "output_type": "execute_result"
    }
   ],
   "source": [
    "len(mylist)"
   ]
  },
  {
   "cell_type": "code",
   "execution_count": 6,
   "id": "c674509f",
   "metadata": {},
   "outputs": [],
   "source": [
    "mylist = ['one', 'two', 'three']"
   ]
  },
  {
   "cell_type": "code",
   "execution_count": 7,
   "id": "83ea5f73",
   "metadata": {},
   "outputs": [
    {
     "data": {
      "text/plain": [
       "'one'"
      ]
     },
     "execution_count": 7,
     "metadata": {},
     "output_type": "execute_result"
    }
   ],
   "source": [
    "mylist[0]"
   ]
  },
  {
   "cell_type": "code",
   "execution_count": 8,
   "id": "9b87c668",
   "metadata": {},
   "outputs": [
    {
     "data": {
      "text/plain": [
       "['two', 'three']"
      ]
     },
     "execution_count": 8,
     "metadata": {},
     "output_type": "execute_result"
    }
   ],
   "source": [
    "mylist[1:]"
   ]
  },
  {
   "cell_type": "code",
   "execution_count": 9,
   "id": "f964453f",
   "metadata": {},
   "outputs": [],
   "source": [
    "another_list = ['four', 'five']"
   ]
  },
  {
   "cell_type": "code",
   "execution_count": 10,
   "id": "72455ea5",
   "metadata": {},
   "outputs": [
    {
     "data": {
      "text/plain": [
       "['one', 'two', 'three', 'four', 'five']"
      ]
     },
     "execution_count": 10,
     "metadata": {},
     "output_type": "execute_result"
    }
   ],
   "source": [
    "mylist + another_list"
   ]
  },
  {
   "cell_type": "markdown",
   "id": "bada447d",
   "metadata": {},
   "source": [
    "this doesn't change the assignment, and both the list will have its own value.\n",
    "it is used only for concatenation.\n",
    "For changing the assignment, addition of list must be assigned to new variable."
   ]
  },
  {
   "cell_type": "code",
   "execution_count": 11,
   "id": "f7451a08",
   "metadata": {},
   "outputs": [
    {
     "data": {
      "text/plain": [
       "['one', 'two', 'three']"
      ]
     },
     "execution_count": 11,
     "metadata": {},
     "output_type": "execute_result"
    }
   ],
   "source": [
    "mylist"
   ]
  },
  {
   "cell_type": "code",
   "execution_count": 12,
   "id": "62016c2d",
   "metadata": {},
   "outputs": [
    {
     "data": {
      "text/plain": [
       "['four', 'five']"
      ]
     },
     "execution_count": 12,
     "metadata": {},
     "output_type": "execute_result"
    }
   ],
   "source": [
    "another_list"
   ]
  },
  {
   "cell_type": "code",
   "execution_count": 35,
   "id": "a1d9bb36",
   "metadata": {},
   "outputs": [],
   "source": [
    "new_list = mylist + another_list"
   ]
  },
  {
   "cell_type": "code",
   "execution_count": 36,
   "id": "10486428",
   "metadata": {},
   "outputs": [
    {
     "data": {
      "text/plain": [
       "['one', 'two', 'three', 'four', 'five']"
      ]
     },
     "execution_count": 36,
     "metadata": {},
     "output_type": "execute_result"
    }
   ],
   "source": [
    "new_list"
   ]
  },
  {
   "cell_type": "code",
   "execution_count": 37,
   "id": "d9068ce3",
   "metadata": {},
   "outputs": [],
   "source": [
    "new_list [0] = 786"
   ]
  },
  {
   "cell_type": "code",
   "execution_count": 38,
   "id": "ca38dac9",
   "metadata": {},
   "outputs": [
    {
     "data": {
      "text/plain": [
       "[786, 'two', 'three', 'four', 'five']"
      ]
     },
     "execution_count": 38,
     "metadata": {},
     "output_type": "execute_result"
    }
   ],
   "source": [
    "new_list"
   ]
  },
  {
   "cell_type": "code",
   "execution_count": 39,
   "id": "e8eba869",
   "metadata": {},
   "outputs": [],
   "source": [
    "new_list.append('SIX')                              # append adds to the list at the end"
   ]
  },
  {
   "cell_type": "code",
   "execution_count": 40,
   "id": "9fdd0fcd",
   "metadata": {},
   "outputs": [
    {
     "data": {
      "text/plain": [
       "[786, 'two', 'three', 'four', 'five', 'SIX']"
      ]
     },
     "execution_count": 40,
     "metadata": {},
     "output_type": "execute_result"
    }
   ],
   "source": [
    "new_list"
   ]
  },
  {
   "cell_type": "code",
   "execution_count": 41,
   "id": "9ec5fc39",
   "metadata": {},
   "outputs": [],
   "source": [
    "new_list.append('seven')"
   ]
  },
  {
   "cell_type": "code",
   "execution_count": 42,
   "id": "59344d1c",
   "metadata": {},
   "outputs": [
    {
     "data": {
      "text/plain": [
       "[786, 'two', 'three', 'four', 'five', 'SIX', 'seven']"
      ]
     },
     "execution_count": 42,
     "metadata": {},
     "output_type": "execute_result"
    }
   ],
   "source": [
    "new_list"
   ]
  },
  {
   "cell_type": "code",
   "execution_count": 43,
   "id": "e4651eaa",
   "metadata": {},
   "outputs": [
    {
     "data": {
      "text/plain": [
       "'seven'"
      ]
     },
     "execution_count": 43,
     "metadata": {},
     "output_type": "execute_result"
    }
   ],
   "source": [
    "new_list.pop()                                        # removes the last item from the list i.e., (-1) is applied by default, which is reverse indexing"
   ]
  },
  {
   "cell_type": "code",
   "execution_count": 44,
   "id": "495d1ac3",
   "metadata": {},
   "outputs": [
    {
     "data": {
      "text/plain": [
       "[786, 'two', 'three', 'four', 'five', 'SIX']"
      ]
     },
     "execution_count": 44,
     "metadata": {},
     "output_type": "execute_result"
    }
   ],
   "source": [
    "new_list"
   ]
  },
  {
   "cell_type": "code",
   "execution_count": 45,
   "id": "08cba973",
   "metadata": {},
   "outputs": [],
   "source": [
    "removed_or_popped_item = new_list.pop()             # this way, we can also save the popped result by assigning it to a variable"
   ]
  },
  {
   "cell_type": "code",
   "execution_count": 46,
   "id": "33fe2ec1",
   "metadata": {},
   "outputs": [
    {
     "data": {
      "text/plain": [
       "'SIX'"
      ]
     },
     "execution_count": 46,
     "metadata": {},
     "output_type": "execute_result"
    }
   ],
   "source": [
    "removed_or_popped_item                                   # last item has been popped again by the above command"
   ]
  },
  {
   "cell_type": "code",
   "execution_count": 47,
   "id": "ad1296d2",
   "metadata": {},
   "outputs": [
    {
     "data": {
      "text/plain": [
       "[786, 'two', 'three', 'four', 'five']"
      ]
     },
     "execution_count": 47,
     "metadata": {},
     "output_type": "execute_result"
    }
   ],
   "source": [
    "new_list"
   ]
  },
  {
   "cell_type": "code",
   "execution_count": 48,
   "id": "3a6f20e1",
   "metadata": {},
   "outputs": [
    {
     "data": {
      "text/plain": [
       "786"
      ]
     },
     "execution_count": 48,
     "metadata": {},
     "output_type": "execute_result"
    }
   ],
   "source": [
    "new_list.pop(0)                       # assigning in parenthesis to remove the particluar item in the list"
   ]
  },
  {
   "cell_type": "code",
   "execution_count": null,
   "id": "a83c3170",
   "metadata": {},
   "outputs": [],
   "source": []
  },
  {
   "cell_type": "code",
   "execution_count": null,
   "id": "41de591a",
   "metadata": {},
   "outputs": [],
   "source": []
  },
  {
   "cell_type": "code",
   "execution_count": 49,
   "id": "f6fa8ae1",
   "metadata": {},
   "outputs": [],
   "source": [
    "stringg_list = ['a', 'b', 'd', 'u', 't', 'r']\n",
    "numb_list = [1,5,2,8]"
   ]
  },
  {
   "cell_type": "code",
   "execution_count": 50,
   "id": "5457c66f",
   "metadata": {},
   "outputs": [],
   "source": [
    "stringg_list.sort()"
   ]
  },
  {
   "cell_type": "code",
   "execution_count": 51,
   "id": "f438fc58",
   "metadata": {},
   "outputs": [
    {
     "data": {
      "text/plain": [
       "['a', 'b', 'd', 'r', 't', 'u']"
      ]
     },
     "execution_count": 51,
     "metadata": {},
     "output_type": "execute_result"
    }
   ],
   "source": [
    "stringg_list"
   ]
  },
  {
   "cell_type": "markdown",
   "id": "71f3fcdf",
   "metadata": {},
   "source": [
    "can not assign sort to new variable, it will return None"
   ]
  },
  {
   "cell_type": "code",
   "execution_count": 52,
   "id": "0d7257d2",
   "metadata": {},
   "outputs": [],
   "source": [
    "my_sorted_list = stringg_list.sort()"
   ]
  },
  {
   "cell_type": "code",
   "execution_count": 53,
   "id": "a1e75887",
   "metadata": {},
   "outputs": [],
   "source": [
    "my_sorted_list"
   ]
  },
  {
   "cell_type": "markdown",
   "id": "7a09db01",
   "metadata": {},
   "source": [
    "didn't return anything"
   ]
  },
  {
   "cell_type": "code",
   "execution_count": 54,
   "id": "f1b9fedd",
   "metadata": {},
   "outputs": [
    {
     "data": {
      "text/plain": [
       "NoneType"
      ]
     },
     "execution_count": 54,
     "metadata": {},
     "output_type": "execute_result"
    }
   ],
   "source": [
    "type(my_sorted_list)"
   ]
  },
  {
   "cell_type": "markdown",
   "id": "3147ea26",
   "metadata": {},
   "source": [
    "it shows that my_sorted_list is a none type"
   ]
  },
  {
   "cell_type": "markdown",
   "id": "81b531e1",
   "metadata": {},
   "source": [
    "#"
   ]
  },
  {
   "cell_type": "markdown",
   "id": "a44316a5",
   "metadata": {},
   "source": [
    "what we can do is give a name to the sorted list in another line"
   ]
  },
  {
   "cell_type": "code",
   "execution_count": 55,
   "id": "8df11e44",
   "metadata": {},
   "outputs": [],
   "source": [
    "numb_list.sort()"
   ]
  },
  {
   "cell_type": "code",
   "execution_count": 56,
   "id": "3a9d9a5a",
   "metadata": {},
   "outputs": [],
   "source": [
    "my_sorted_numb_list = numb_list"
   ]
  },
  {
   "cell_type": "code",
   "execution_count": 57,
   "id": "bf2aac36",
   "metadata": {},
   "outputs": [
    {
     "data": {
      "text/plain": [
       "[1, 2, 5, 8]"
      ]
     },
     "execution_count": 57,
     "metadata": {},
     "output_type": "execute_result"
    }
   ],
   "source": [
    "my_sorted_numb_list                  # now the list name after sorting is changed,       but doesn't work with direct assignment"
   ]
  },
  {
   "cell_type": "code",
   "execution_count": 58,
   "id": "787c86d0",
   "metadata": {},
   "outputs": [],
   "source": [
    "numb_list.reverse()"
   ]
  },
  {
   "cell_type": "code",
   "execution_count": 59,
   "id": "496891cc",
   "metadata": {},
   "outputs": [
    {
     "data": {
      "text/plain": [
       "[8, 5, 2, 1]"
      ]
     },
     "execution_count": 59,
     "metadata": {},
     "output_type": "execute_result"
    }
   ],
   "source": [
    "numb_list"
   ]
  },
  {
   "cell_type": "markdown",
   "id": "49f637f6",
   "metadata": {},
   "source": [
    "#bchxd"
   ]
  },
  {
   "cell_type": "code",
   "execution_count": null,
   "id": "def2c9c4",
   "metadata": {},
   "outputs": [],
   "source": []
  }
 ],
 "metadata": {
  "kernelspec": {
   "display_name": "Python 3 (ipykernel)",
   "language": "python",
   "name": "python3"
  },
  "language_info": {
   "codemirror_mode": {
    "name": "ipython",
    "version": 3
   },
   "file_extension": ".py",
   "mimetype": "text/x-python",
   "name": "python",
   "nbconvert_exporter": "python",
   "pygments_lexer": "ipython3",
   "version": "3.9.12"
  }
 },
 "nbformat": 4,
 "nbformat_minor": 5
}
